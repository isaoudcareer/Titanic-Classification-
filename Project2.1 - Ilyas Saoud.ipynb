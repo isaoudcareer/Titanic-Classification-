{
 "cells": [
  {
   "cell_type": "markdown",
   "id": "c8e3e7f5",
   "metadata": {},
   "source": [
    "# Project II - Titanic Classification "
   ]
  },
  {
   "cell_type": "markdown",
   "id": "fcae3150",
   "metadata": {},
   "source": [
    "#### 06/25/22\n",
    "#### Ilyas Saoud\n",
    "## Introduction\n",
    "In this project, I downloaded titanic data from Kaggle with the name and information of 1000+ passengers who either died or survived the titanic fall https://www.kaggle.com/competitions/titanic. The data was split into 'train' and 'test' datasets for classification. This time, I want to dig in a bit deeper into how neural networks function. Instead of using Pytorch or TensorFlow libraries, I decided to write and understand the code from scratch with the help of the book 'Machine learning by Sebastian Raschka & Vahid Mirjalili'. It's a great book for machine learning. I hope after this project to learn more about the small variables and calculations that can help me achieve higher accuarcy."
   ]
  },
  {
   "cell_type": "markdown",
   "id": "86a9488c",
   "metadata": {},
   "source": [
    "## Let's import some libraries!\n",
    "* seaborn: Used for data visualization\n",
    "* numpy: Used for Arrays and matrices\n",
    "* pandas: Used for Data Frames\n",
    "* opendatasets: Used to download dataset from Kaggle (hidden)"
   ]
  },
  {
   "cell_type": "code",
   "execution_count": 1,
   "id": "e751fc9d",
   "metadata": {},
   "outputs": [],
   "source": [
    "import seaborn as sns\n",
    "import numpy as np\n",
    "import pandas as pd\n",
    "import matplotlib.pyplot as plt\n",
    "import opendatasets as od"
   ]
  },
  {
   "cell_type": "markdown",
   "id": "9b4ac237",
   "metadata": {},
   "source": [
    "## The data\n",
    "Here I pulled the datasets from my files. \n",
    "* The 'train' is the dataset used to train our model. \n",
    "* The 'test' dataset is used to test the model with new unseen data to test the accuarcy of our model."
   ]
  },
  {
   "cell_type": "code",
   "execution_count": 2,
   "id": "1e42af1c",
   "metadata": {
    "scrolled": false
   },
   "outputs": [
    {
     "data": {
      "text/html": [
       "<div>\n",
       "<style scoped>\n",
       "    .dataframe tbody tr th:only-of-type {\n",
       "        vertical-align: middle;\n",
       "    }\n",
       "\n",
       "    .dataframe tbody tr th {\n",
       "        vertical-align: top;\n",
       "    }\n",
       "\n",
       "    .dataframe thead th {\n",
       "        text-align: right;\n",
       "    }\n",
       "</style>\n",
       "<table border=\"1\" class=\"dataframe\">\n",
       "  <thead>\n",
       "    <tr style=\"text-align: right;\">\n",
       "      <th></th>\n",
       "      <th>PassengerId</th>\n",
       "      <th>Survived</th>\n",
       "      <th>Pclass</th>\n",
       "      <th>Name</th>\n",
       "      <th>Sex</th>\n",
       "      <th>Age</th>\n",
       "      <th>SibSp</th>\n",
       "      <th>Parch</th>\n",
       "      <th>Ticket</th>\n",
       "      <th>Fare</th>\n",
       "      <th>Cabin</th>\n",
       "      <th>Embarked</th>\n",
       "    </tr>\n",
       "  </thead>\n",
       "  <tbody>\n",
       "    <tr>\n",
       "      <th>0</th>\n",
       "      <td>1</td>\n",
       "      <td>0</td>\n",
       "      <td>3</td>\n",
       "      <td>Braund, Mr. Owen Harris</td>\n",
       "      <td>male</td>\n",
       "      <td>22.0</td>\n",
       "      <td>1</td>\n",
       "      <td>0</td>\n",
       "      <td>A/5 21171</td>\n",
       "      <td>7.2500</td>\n",
       "      <td>NaN</td>\n",
       "      <td>S</td>\n",
       "    </tr>\n",
       "    <tr>\n",
       "      <th>1</th>\n",
       "      <td>2</td>\n",
       "      <td>1</td>\n",
       "      <td>1</td>\n",
       "      <td>Cumings, Mrs. John Bradley (Florence Briggs Th...</td>\n",
       "      <td>female</td>\n",
       "      <td>38.0</td>\n",
       "      <td>1</td>\n",
       "      <td>0</td>\n",
       "      <td>PC 17599</td>\n",
       "      <td>71.2833</td>\n",
       "      <td>C85</td>\n",
       "      <td>C</td>\n",
       "    </tr>\n",
       "    <tr>\n",
       "      <th>2</th>\n",
       "      <td>3</td>\n",
       "      <td>1</td>\n",
       "      <td>3</td>\n",
       "      <td>Heikkinen, Miss. Laina</td>\n",
       "      <td>female</td>\n",
       "      <td>26.0</td>\n",
       "      <td>0</td>\n",
       "      <td>0</td>\n",
       "      <td>STON/O2. 3101282</td>\n",
       "      <td>7.9250</td>\n",
       "      <td>NaN</td>\n",
       "      <td>S</td>\n",
       "    </tr>\n",
       "    <tr>\n",
       "      <th>3</th>\n",
       "      <td>4</td>\n",
       "      <td>1</td>\n",
       "      <td>1</td>\n",
       "      <td>Futrelle, Mrs. Jacques Heath (Lily May Peel)</td>\n",
       "      <td>female</td>\n",
       "      <td>35.0</td>\n",
       "      <td>1</td>\n",
       "      <td>0</td>\n",
       "      <td>113803</td>\n",
       "      <td>53.1000</td>\n",
       "      <td>C123</td>\n",
       "      <td>S</td>\n",
       "    </tr>\n",
       "    <tr>\n",
       "      <th>4</th>\n",
       "      <td>5</td>\n",
       "      <td>0</td>\n",
       "      <td>3</td>\n",
       "      <td>Allen, Mr. William Henry</td>\n",
       "      <td>male</td>\n",
       "      <td>35.0</td>\n",
       "      <td>0</td>\n",
       "      <td>0</td>\n",
       "      <td>373450</td>\n",
       "      <td>8.0500</td>\n",
       "      <td>NaN</td>\n",
       "      <td>S</td>\n",
       "    </tr>\n",
       "  </tbody>\n",
       "</table>\n",
       "</div>"
      ],
      "text/plain": [
       "   PassengerId  Survived  Pclass  \\\n",
       "0            1         0       3   \n",
       "1            2         1       1   \n",
       "2            3         1       3   \n",
       "3            4         1       1   \n",
       "4            5         0       3   \n",
       "\n",
       "                                                Name     Sex   Age  SibSp  \\\n",
       "0                            Braund, Mr. Owen Harris    male  22.0      1   \n",
       "1  Cumings, Mrs. John Bradley (Florence Briggs Th...  female  38.0      1   \n",
       "2                             Heikkinen, Miss. Laina  female  26.0      0   \n",
       "3       Futrelle, Mrs. Jacques Heath (Lily May Peel)  female  35.0      1   \n",
       "4                           Allen, Mr. William Henry    male  35.0      0   \n",
       "\n",
       "   Parch            Ticket     Fare Cabin Embarked  \n",
       "0      0         A/5 21171   7.2500   NaN        S  \n",
       "1      0          PC 17599  71.2833   C85        C  \n",
       "2      0  STON/O2. 3101282   7.9250   NaN        S  \n",
       "3      0            113803  53.1000  C123        S  \n",
       "4      0            373450   8.0500   NaN        S  "
      ]
     },
     "execution_count": 2,
     "metadata": {},
     "output_type": "execute_result"
    }
   ],
   "source": [
    "train = df = pd.read_csv('titanic/train.csv')\n",
    "test = df = pd.read_csv('titanic/test.csv')\n",
    "acc_test = pd.read_csv('titanic/gender_submission.csv')\n",
    "train.head()"
   ]
  },
  {
   "cell_type": "markdown",
   "id": "472992a6",
   "metadata": {},
   "source": [
    "## The description of each column\n",
    "\n",
    "* Survival: Survival              |\t0 = No, 1 = Yes\n",
    "* Pclass: Ticket class          | \t1 = 1st, 2 = 2nd, 3 = 3rd\n",
    "* Sex: Sex                   \t\n",
    "* Age: Age in years          \t\n",
    "* Sibsp: # of siblings / spouses aboard the Titanic \t\n",
    "* Parch: # of parents / children aboard the Titanic \t\n",
    "* Ticket: Ticket number         \t\n",
    "* Fare: Passenger fare        \n",
    "* Cabin: Cabin number        \n",
    "* Embarked: Port of Embarkation   | C = Cherbourg, Q = Queenstown, S = Southampton"
   ]
  },
  {
   "cell_type": "markdown",
   "id": "9974646c",
   "metadata": {},
   "source": [
    "## Boxplot!\n",
    "Here we have two boxplots. Value 0 representing 'No' and 1 represent 'Yes'. From looking at the boxplot, it is clear that although children and women were priotized, the data shows that the age spread was similar in both cases."
   ]
  },
  {
   "cell_type": "code",
   "execution_count": 3,
   "id": "b2508e72",
   "metadata": {
    "scrolled": false
   },
   "outputs": [
    {
     "data": {
      "image/png": "[encoded data removed]",
      "text/plain": [
       "<Figure size 432x288 with 1 Axes>"
      ]
     },
     "metadata": {},
     "output_type": "display_data"
    }
   ],
   "source": [
    "sns.set_theme(style=\"darkgrid\")\n",
    "sns.boxplot(data=train, x=\"Survived\", y=\"Age\",\n",
    "                        hue=\"Survived\", dodge = False).set(title='Survival by Age Boxplot');\n",
    "sns.set(rc={'figure.figsize':(13,6)});"
   ]
  },
  {
   "cell_type": "markdown",
   "id": "40883de4",
   "metadata": {},
   "source": [
    "## Value Counts"
   ]
  },
  {
   "cell_type": "markdown",
   "id": "d5bdc8e9",
   "metadata": {},
   "source": [
    "* Number of males and females in our training dataset. "
   ]
  },
  {
   "cell_type": "code",
   "execution_count": 4,
   "id": "93020c41",
   "metadata": {},
   "outputs": [
    {
     "data": {
      "text/plain": [
       "male      577\n",
       "female    314\n",
       "Name: Sex, dtype: int64"
      ]
     },
     "execution_count": 4,
     "metadata": {},
     "output_type": "execute_result"
    }
   ],
   "source": [
    "train['Sex'].value_counts()"
   ]
  },
  {
   "cell_type": "markdown",
   "id": "64b1a4f1",
   "metadata": {},
   "source": [
    "* Number of passengers of died and survived. Value 0 representing death."
   ]
  },
  {
   "cell_type": "code",
   "execution_count": 5,
   "id": "5e4785f8",
   "metadata": {},
   "outputs": [
    {
     "data": {
      "text/plain": [
       "0    549\n",
       "1    342\n",
       "Name: Survived, dtype: int64"
      ]
     },
     "execution_count": 5,
     "metadata": {},
     "output_type": "execute_result"
    }
   ],
   "source": [
    "train['Survived'].value_counts()"
   ]
  },
  {
   "cell_type": "markdown",
   "id": "21f344d3",
   "metadata": {},
   "source": [
    "* Number of passengers on each class. 1 being the top class."
   ]
  },
  {
   "cell_type": "code",
   "execution_count": 22,
   "id": "f4e16937",
   "metadata": {},
   "outputs": [
    {
     "data": {
      "text/plain": [
       "3    491\n",
       "1    216\n",
       "2    184\n",
       "Name: Pclass, dtype: int64"
      ]
     },
     "execution_count": 22,
     "metadata": {},
     "output_type": "execute_result"
    }
   ],
   "source": [
    "train['Pclass'].value_counts()"
   ]
  },
  {
   "cell_type": "markdown",
   "id": "0e6c3e62",
   "metadata": {},
   "source": [
    "## Displot\n",
    "Here we have four bar graphs. On the left column, the bargraphs represent the number of passengers who died per class, grouped by sex. While the right column, the bargraphs represent the number of passengers who survived per class. Looking at the graphs, we can see that female passengers and first class passengers were more likely to survive. "
   ]
  },
  {
   "cell_type": "code",
   "execution_count": 7,
   "id": "17128d26",
   "metadata": {},
   "outputs": [
    {
     "data": {
      "image/png": "[encoded data removed]",
      "text/plain": [
       "<Figure size 504.85x648 with 6 Axes>"
      ]
     },
     "metadata": {},
     "output_type": "display_data"
    }
   ],
   "source": [
    "sns.set_theme(style=\"darkgrid\")\n",
    "disp = sns.displot(\n",
    "    train, x=\"Sex\", col=\"Survived\", row=\"Pclass\",\n",
    "    binwidth=10, height=3, facet_kws=dict(margin_titles=True),\n",
    "    stat = \"count\",hue = \"Sex\"\n",
    ");"
   ]
  },
  {
   "cell_type": "markdown",
   "id": "d1b7bea4",
   "metadata": {},
   "source": [
    "## The training model\n",
    "* Instead of using a perceptron, I decided to use Adaptive Linear Neuron (Adaline) as our model with the main difference being the way we update our weights which is used using a linear activation function instead of of a unit step function. The final predcition still uses the step function. \n",
    "* This Adaline model uses Stochastic gradient descent in case of a large dataset. \n",
    "Here are some simple explanation of some of the functions:\n",
    "* the __init__ function is used to call take in variables when calling our model: AdalineSGD(eta = 0.001, n_iter = 20) as an example. \n",
    "* eta represents the learning rate. this rate is multiplied when updating the weights \n",
    "* n_iter represents the number of epochs or 'runs'\n",
    "* fit() is used to update the weights and biases. Inside you can find the cost_ list that stores the error of each run. \n",
    "* _initialize_weights is used to create the first array with random weights that will be used on each training input then will be updated.\n",
    "* _update_weights() updates the weights \n",
    "* net_input() preforms matrix multiplication using dot product \n",
    "* predict() will take in new inputs and outputs the prediction value."
   ]
  },
  {
   "cell_type": "code",
   "execution_count": 8,
   "id": "78e9d0a3",
   "metadata": {},
   "outputs": [],
   "source": [
    "class AdalineSGD:\n",
    "    def __init__(self,eta = 0.01, n_iter = 10, random_state = None,\n",
    "                shuffle = True):\n",
    "        self.eta = eta\n",
    "        self.n_iter = n_iter\n",
    "        self.random_state = random_state\n",
    "        self.w_initializaed = False\n",
    "        self.shuffle = shuffle\n",
    "        self.random_state = random_state\n",
    "    def fit(self,X,y):\n",
    "        \n",
    "        self._initialize_weights(X.shape[1])\n",
    "        self.cost_ = []\n",
    "        for _ in range(self.n_iter):\n",
    "            if self.shuffle:\n",
    "                X,y = self._shuffle(X,y)\n",
    "            cost = []\n",
    "            for xi, target in zip(X,y):\n",
    "                cost.append(self._update_weights(xi,target))\n",
    "            avg_cost = sum(cost) / len(y)\n",
    "            self.cost_.append(avg_cost)\n",
    "        return self\n",
    "    \n",
    "    def partial_fit(self,X,y):\n",
    "        if not self.w_initialized:\n",
    "            self._initialize_weights(X.shape[1])\n",
    "        if y.ravel().shape[0] > 1:\n",
    "            for xi,target in zip(X,y):\n",
    "                self._update_weights(xi, target)\n",
    "        else:\n",
    "            self._update_weights(X,y)\n",
    "        return self\n",
    "    \n",
    "    def _shuffle(self,X,y):\n",
    "        r = self.rgen.permutation(len(y))\n",
    "        return(X[r], y[r])\n",
    "    \n",
    "    def _initialize_weights(self,m):\n",
    "        self.rgen = np.random.RandomState(self.random_state)\n",
    "        self.w_ = self.rgen.normal(loc= 0.0, scale = 0.01,size = 1+m)\n",
    "        self.w_initialized = True\n",
    "    def _update_weights(self,xi,target):\n",
    "        output = self.activation(self.net_input(xi))\n",
    "        error = (target - output)\n",
    "        self.w_[1:] += self.eta * xi.dot(error)\n",
    "        self.w_[0] += self.eta * error\n",
    "        cost = 0.5 * error**2\n",
    "        return cost\n",
    "    \n",
    "    def net_input(self,X):\n",
    "        return np.dot(X,self.w_[1:]) + self.w_[0]\n",
    "    \n",
    "    def activation(self,X):\n",
    "        return X\n",
    "    \n",
    "    def predict(self, X):\n",
    "        return np.where(self.net_input(X) >= 0, 1,0)"
   ]
  },
  {
   "cell_type": "markdown",
   "id": "77da00f8",
   "metadata": {},
   "source": [
    "## Filtering our dataset\n",
    "Here, both our train and test datasets were cutdown to fewer columns that will be useful for our training model. "
   ]
  },
  {
   "cell_type": "code",
   "execution_count": 9,
   "id": "5cb796f9",
   "metadata": {},
   "outputs": [],
   "source": [
    "test = test[['PassengerId','Sex','Pclass',\n",
    "                'SibSp','Parch']]\n",
    "train = train[['Survived','Sex','Pclass',\n",
    "                'SibSp','Parch']]"
   ]
  },
  {
   "cell_type": "markdown",
   "id": "741f46cd",
   "metadata": {},
   "source": [
    "## String to Integer\n",
    "Here we are changing the values of the 'Sex' column from Str to Int. Each value here must be an integer because our neural network does not recognize words. The values must be numbers that can be used for our calculations. Images and texts are both transfered to numbers for classification and more. "
   ]
  },
  {
   "cell_type": "code",
   "execution_count": 10,
   "id": "eb6bcc1d",
   "metadata": {
    "scrolled": true
   },
   "outputs": [
    {
     "data": {
      "text/html": [
       "<div>\n",
       "<style scoped>\n",
       "    .dataframe tbody tr th:only-of-type {\n",
       "        vertical-align: middle;\n",
       "    }\n",
       "\n",
       "    .dataframe tbody tr th {\n",
       "        vertical-align: top;\n",
       "    }\n",
       "\n",
       "    .dataframe thead th {\n",
       "        text-align: right;\n",
       "    }\n",
       "</style>\n",
       "<table border=\"1\" class=\"dataframe\">\n",
       "  <thead>\n",
       "    <tr style=\"text-align: right;\">\n",
       "      <th></th>\n",
       "      <th>Survived</th>\n",
       "      <th>Sex</th>\n",
       "      <th>Pclass</th>\n",
       "      <th>SibSp</th>\n",
       "      <th>Parch</th>\n",
       "    </tr>\n",
       "  </thead>\n",
       "  <tbody>\n",
       "    <tr>\n",
       "      <th>0</th>\n",
       "      <td>0</td>\n",
       "      <td>1</td>\n",
       "      <td>3</td>\n",
       "      <td>1</td>\n",
       "      <td>0</td>\n",
       "    </tr>\n",
       "    <tr>\n",
       "      <th>1</th>\n",
       "      <td>1</td>\n",
       "      <td>0</td>\n",
       "      <td>1</td>\n",
       "      <td>1</td>\n",
       "      <td>0</td>\n",
       "    </tr>\n",
       "    <tr>\n",
       "      <th>2</th>\n",
       "      <td>1</td>\n",
       "      <td>0</td>\n",
       "      <td>3</td>\n",
       "      <td>0</td>\n",
       "      <td>0</td>\n",
       "    </tr>\n",
       "    <tr>\n",
       "      <th>3</th>\n",
       "      <td>1</td>\n",
       "      <td>0</td>\n",
       "      <td>1</td>\n",
       "      <td>1</td>\n",
       "      <td>0</td>\n",
       "    </tr>\n",
       "    <tr>\n",
       "      <th>4</th>\n",
       "      <td>0</td>\n",
       "      <td>1</td>\n",
       "      <td>3</td>\n",
       "      <td>0</td>\n",
       "      <td>0</td>\n",
       "    </tr>\n",
       "    <tr>\n",
       "      <th>...</th>\n",
       "      <td>...</td>\n",
       "      <td>...</td>\n",
       "      <td>...</td>\n",
       "      <td>...</td>\n",
       "      <td>...</td>\n",
       "    </tr>\n",
       "    <tr>\n",
       "      <th>886</th>\n",
       "      <td>0</td>\n",
       "      <td>1</td>\n",
       "      <td>2</td>\n",
       "      <td>0</td>\n",
       "      <td>0</td>\n",
       "    </tr>\n",
       "    <tr>\n",
       "      <th>887</th>\n",
       "      <td>1</td>\n",
       "      <td>0</td>\n",
       "      <td>1</td>\n",
       "      <td>0</td>\n",
       "      <td>0</td>\n",
       "    </tr>\n",
       "    <tr>\n",
       "      <th>888</th>\n",
       "      <td>0</td>\n",
       "      <td>0</td>\n",
       "      <td>3</td>\n",
       "      <td>1</td>\n",
       "      <td>2</td>\n",
       "    </tr>\n",
       "    <tr>\n",
       "      <th>889</th>\n",
       "      <td>1</td>\n",
       "      <td>1</td>\n",
       "      <td>1</td>\n",
       "      <td>0</td>\n",
       "      <td>0</td>\n",
       "    </tr>\n",
       "    <tr>\n",
       "      <th>890</th>\n",
       "      <td>0</td>\n",
       "      <td>1</td>\n",
       "      <td>3</td>\n",
       "      <td>0</td>\n",
       "      <td>0</td>\n",
       "    </tr>\n",
       "  </tbody>\n",
       "</table>\n",
       "<p>891 rows × 5 columns</p>\n",
       "</div>"
      ],
      "text/plain": [
       "     Survived  Sex  Pclass  SibSp  Parch\n",
       "0           0    1       3      1      0\n",
       "1           1    0       1      1      0\n",
       "2           1    0       3      0      0\n",
       "3           1    0       1      1      0\n",
       "4           0    1       3      0      0\n",
       "..        ...  ...     ...    ...    ...\n",
       "886         0    1       2      0      0\n",
       "887         1    0       1      0      0\n",
       "888         0    0       3      1      2\n",
       "889         1    1       1      0      0\n",
       "890         0    1       3      0      0\n",
       "\n",
       "[891 rows x 5 columns]"
      ]
     },
     "execution_count": 10,
     "metadata": {},
     "output_type": "execute_result"
    }
   ],
   "source": [
    "def Changes(df):\n",
    "    df.loc[(df.Sex =='female'), 'Sex'] = 0\n",
    "    df.loc[(df.Sex =='male'), 'Sex'] = 1\n",
    "    df = df.fillna(1)\n",
    "    return df\n",
    "train = Changes(train)\n",
    "test = Changes(test)\n",
    "train"
   ]
  },
  {
   "cell_type": "markdown",
   "id": "f66a4801",
   "metadata": {},
   "source": [
    "## Dataframe to Arrays!\n",
    "Here we are transforming our dataframe to Arrays so that they can be for matrices multiplication. the y here represents the true value of our output that will be used to calculate the sum of errors. "
   ]
  },
  {
   "cell_type": "code",
   "execution_count": 27,
   "id": "83c7e9c1",
   "metadata": {},
   "outputs": [
    {
     "data": {
      "text/plain": [
       "(891, 4)"
      ]
     },
     "execution_count": 27,
     "metadata": {},
     "output_type": "execute_result"
    }
   ],
   "source": [
    "X = train.iloc[0:891, [1,2,3,4]].values\n",
    "y = train.iloc[0:891,0].values\n",
    "X.shape"
   ]
  },
  {
   "cell_type": "markdown",
   "id": "6990c006",
   "metadata": {},
   "source": [
    "## Sum-Squared-error Vs Epochs plot\n",
    "* The code below graphs the Sum-Squared_error during each Epoch. An epoch just represents the loop and weight update using fit() and it plots the Sum-Squared-error for that run. \n",
    "* ada is calling our model 'AdalineSGD' to .fit() our training dataset."
   ]
  },
  {
   "cell_type": "code",
   "execution_count": 12,
   "id": "fef4d440",
   "metadata": {},
   "outputs": [
    {
     "data": {
      "image/png": "[encoded data removed]",
      "text/plain": [
       "<Figure size 720x288 with 1 Axes>"
      ]
     },
     "metadata": {},
     "output_type": "display_data"
    }
   ],
   "source": [
    "fig, ax = plt.subplots(nrows=1,ncols=1,figsize=(10,4))\n",
    "\n",
    "ada = AdalineSGD(n_iter = 20, eta = 0.01).fit(X,y)\n",
    "ax.plot(range(1,len(ada.cost_)+1),\n",
    "          ada.cost_,marker='o')\n",
    "ax.set_xlabel('Epochs');\n",
    "ax.set_ylabel('Sum-Squared-error');\n"
   ]
  },
  {
   "cell_type": "markdown",
   "id": "aaa07a9f",
   "metadata": {},
   "source": [
    "## Testing Array\n",
    "Here, we are once again transforming the dataset to an array but this time for testing! We used ada.predict to use our model to test the new inputs, below are the results."
   ]
  },
  {
   "cell_type": "code",
   "execution_count": 13,
   "id": "d57714fc",
   "metadata": {},
   "outputs": [
    {
     "data": {
      "text/plain": [
       "array([0, 1, 1, 0, 1, 0, 1, 1, 1, 0, 0, 1, 1, 1, 1, 1, 1, 0, 1, 1, 1, 0,\n",
       "       1, 1, 1, 0, 1, 0, 1, 0, 1, 1, 1, 1, 1, 0, 1, 1, 0, 0, 0, 1, 0, 1,\n",
       "       1, 0, 1, 0, 1, 1, 1, 1, 1, 1, 1, 0, 0, 0, 0, 1, 0, 1, 0, 1, 1, 1,\n",
       "       1, 1, 1, 1, 1, 0, 1, 1, 1, 1, 0, 1, 1, 1, 0, 1, 1, 0, 1, 0, 1, 1,\n",
       "       1, 1, 1, 0, 1, 0, 1, 0, 1, 0, 1, 0, 1, 1, 0, 0, 1, 0, 0, 0, 0, 1,\n",
       "       1, 1, 1, 1, 1, 0, 0, 1, 1, 1, 1, 0, 1, 0, 0, 1, 0, 1, 1, 0, 0, 1,\n",
       "       1, 0, 0, 0, 0, 1, 1, 0, 1, 1, 1, 1, 1, 0, 1, 0, 1, 1, 1, 0, 0, 1,\n",
       "       0, 0, 1, 1, 1, 1, 1, 0, 1, 0, 1, 1, 1, 0, 1, 1, 0, 0, 0, 0, 0, 1,\n",
       "       1, 1, 1, 1, 1, 1, 1, 0, 1, 1, 1, 0, 1, 1, 1, 1, 0, 1, 1, 0, 1, 1,\n",
       "       1, 1, 1, 0, 1, 1, 1, 1, 1, 1, 1, 0, 0, 0, 1, 1, 1, 1, 1, 1, 1, 0,\n",
       "       1, 0, 1, 0, 1, 1, 0, 1, 0, 1, 1, 1, 0, 0, 1, 0, 1, 0, 1, 1, 1, 1,\n",
       "       1, 0, 0, 1, 1, 1, 1, 1, 1, 0, 1, 0, 0, 0, 0, 0, 1, 0, 0, 0, 1, 1,\n",
       "       1, 0, 1, 0, 1, 0, 1, 0, 1, 1, 0, 1, 1, 1, 1, 1, 1, 0, 1, 1, 1, 0,\n",
       "       0, 1, 0, 0, 1, 1, 0, 1, 0, 0, 1, 0, 1, 0, 0, 1, 1, 0, 1, 1, 1, 0,\n",
       "       1, 1, 0, 0, 0, 1, 1, 1, 1, 1, 0, 1, 0, 0, 1, 1, 1, 0, 1, 1, 1, 1,\n",
       "       1, 1, 0, 1, 0, 1, 1, 0, 1, 0, 1, 0, 0, 1, 0, 1, 1, 1, 1, 1, 1, 1,\n",
       "       1, 1, 1, 1, 1, 0, 0, 1, 0, 1, 1, 0, 1, 1, 0, 1, 1, 1, 1, 1, 1, 1,\n",
       "       1, 1, 1, 1, 1, 0, 0, 0, 1, 1, 1, 1, 0, 1, 0, 0, 1, 1, 0, 1, 0, 1,\n",
       "       0, 1, 0, 0, 1, 1, 1, 1, 1, 1, 1, 1, 1, 1, 1, 1, 1, 0, 1, 0, 0])"
      ]
     },
     "execution_count": 13,
     "metadata": {},
     "output_type": "execute_result"
    }
   ],
   "source": [
    "X_test = test.iloc[0:417, [1,2,3,4]].values\n",
    "ada.predict(X_test)"
   ]
  },
  {
   "cell_type": "markdown",
   "id": "b49eed4a",
   "metadata": {},
   "source": [
    "## Comparing True values with Predicted values \n",
    "Below we added the predicted values to the 'acc_test' table.\n",
    "These are the true output values and are compared to the predicted output values from the code above."
   ]
  },
  {
   "cell_type": "code",
   "execution_count": 15,
   "id": "ce20027e",
   "metadata": {},
   "outputs": [],
   "source": [
    "def pred2(Sex,Pclass,SibSp,Parch):\n",
    "    pred_val = ada.predict([Sex,Pclass,SibSp,Parch])\n",
    "    return(pred_val)\n",
    "    "
   ]
  },
  {
   "cell_type": "code",
   "execution_count": 16,
   "id": "ef721504",
   "metadata": {},
   "outputs": [],
   "source": [
    "acc_test['Predicted'] = [1 if pred2(i['Sex'],i['Pclass'],i['SibSp'],i['Parch']) == 1 else \n",
    "                           0 if pred2(i['Sex'],i['Pclass'],i['SibSp'],i['Parch']) == 0 else \n",
    "                           -1 for index,i in test.iterrows()]"
   ]
  },
  {
   "cell_type": "code",
   "execution_count": 29,
   "id": "252ff01b",
   "metadata": {},
   "outputs": [
    {
     "data": {
      "text/html": [
       "<div>\n",
       "<style scoped>\n",
       "    .dataframe tbody tr th:only-of-type {\n",
       "        vertical-align: middle;\n",
       "    }\n",
       "\n",
       "    .dataframe tbody tr th {\n",
       "        vertical-align: top;\n",
       "    }\n",
       "\n",
       "    .dataframe thead th {\n",
       "        text-align: right;\n",
       "    }\n",
       "</style>\n",
       "<table border=\"1\" class=\"dataframe\">\n",
       "  <thead>\n",
       "    <tr style=\"text-align: right;\">\n",
       "      <th></th>\n",
       "      <th>PassengerId</th>\n",
       "      <th>Survived</th>\n",
       "      <th>Predicted</th>\n",
       "    </tr>\n",
       "  </thead>\n",
       "  <tbody>\n",
       "    <tr>\n",
       "      <th>0</th>\n",
       "      <td>892</td>\n",
       "      <td>0</td>\n",
       "      <td>0</td>\n",
       "    </tr>\n",
       "    <tr>\n",
       "      <th>1</th>\n",
       "      <td>893</td>\n",
       "      <td>1</td>\n",
       "      <td>1</td>\n",
       "    </tr>\n",
       "    <tr>\n",
       "      <th>2</th>\n",
       "      <td>894</td>\n",
       "      <td>0</td>\n",
       "      <td>1</td>\n",
       "    </tr>\n",
       "    <tr>\n",
       "      <th>3</th>\n",
       "      <td>895</td>\n",
       "      <td>0</td>\n",
       "      <td>0</td>\n",
       "    </tr>\n",
       "    <tr>\n",
       "      <th>4</th>\n",
       "      <td>896</td>\n",
       "      <td>1</td>\n",
       "      <td>1</td>\n",
       "    </tr>\n",
       "  </tbody>\n",
       "</table>\n",
       "</div>"
      ],
      "text/plain": [
       "   PassengerId  Survived  Predicted\n",
       "0          892         0          0\n",
       "1          893         1          1\n",
       "2          894         0          1\n",
       "3          895         0          0\n",
       "4          896         1          1"
      ]
     },
     "execution_count": 29,
     "metadata": {},
     "output_type": "execute_result"
    }
   ],
   "source": [
    "acc_test.head()"
   ]
  },
  {
   "cell_type": "markdown",
   "id": "f27f8897",
   "metadata": {},
   "source": [
    "## Finally, calculating our accuracy.\n",
    "Here we are creating a for loop to calculate the accuracy"
   ]
  },
  {
   "cell_type": "code",
   "execution_count": 18,
   "id": "1cc45638",
   "metadata": {},
   "outputs": [],
   "source": [
    "correct = 0\n",
    "for i,o in zip(acc_test[['Survived']].values,acc_test[['Predicted']].values):\n",
    "    if i == o:\n",
    "        correct +=1"
   ]
  },
  {
   "cell_type": "code",
   "execution_count": 19,
   "id": "71ffddc5",
   "metadata": {},
   "outputs": [
    {
     "data": {
      "text/plain": [
       "'This Model is 71.29 % Accurate'"
      ]
     },
     "execution_count": 19,
     "metadata": {},
     "output_type": "execute_result"
    }
   ],
   "source": [
    "accuracy = correct / len(test) * 100\n",
    "\"This Model is \" + str(round(accuracy,2)) +  \" % Accurate\""
   ]
  }
 ],
 "metadata": {
  "kernelspec": {
   "display_name": "Python 3 (ipykernel)",
   "language": "python",
   "name": "python3"
  },
  "language_info": {
   "codemirror_mode": {
    "name": "ipython",
    "version": 3
   },
   "file_extension": ".py",
   "mimetype": "text/x-python",
   "name": "python",
   "nbconvert_exporter": "python",
   "pygments_lexer": "ipython3",
   "version": "3.8.8"
  }
 },
 "nbformat": 4,
 "nbformat_minor": 5
}
